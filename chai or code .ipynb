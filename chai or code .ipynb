{
 "cells": [
  {
   "cell_type": "code",
   "execution_count": 1,
   "id": "5e9967ae-1672-46bf-9b43-c4b8e86a0900",
   "metadata": {},
   "outputs": [],
   "source": [
    "import numpy as np "
   ]
  },
  {
   "cell_type": "code",
   "execution_count": 2,
   "id": "c0e9eda8-b627-4b69-806a-952ef97788b4",
   "metadata": {},
   "outputs": [
    {
     "data": {
      "text/plain": [
       "array([ 1,  2,  3,  4,  5,  6,  7,  8,  9, 10])"
      ]
     },
     "execution_count": 2,
     "metadata": {},
     "output_type": "execute_result"
    }
   ],
   "source": [
    "arr_1 = np.array([1,2,3,4,5,6,7,8,9,10])\n",
    "arr_1"
   ]
  },
  {
   "cell_type": "code",
   "execution_count": 3,
   "id": "aff57c78-8cda-4eb9-84a6-d0e901bebb22",
   "metadata": {},
   "outputs": [
    {
     "name": "stdout",
     "output_type": "stream",
     "text": [
      "1\n",
      "2\n",
      "3\n",
      "4\n",
      "5\n",
      "6\n",
      "7\n",
      "8\n",
      "9\n",
      "10\n"
     ]
    }
   ],
   "source": [
    "arr =1 \n",
    "while arr <=10:\n",
    "    print(arr)\n",
    "    arr+=1"
   ]
  },
  {
   "cell_type": "code",
   "execution_count": 8,
   "id": "1d15c346-b269-4886-9fb9-c64ee3209f02",
   "metadata": {},
   "outputs": [
    {
     "data": {
      "text/plain": [
       "array([[1, 2, 3],\n",
       "       [4, 5, 6]])"
      ]
     },
     "execution_count": 8,
     "metadata": {},
     "output_type": "execute_result"
    }
   ],
   "source": [
    "arr_2 = np.array([[1,2,3],[4,5,6]])\n",
    "arr_2"
   ]
  },
  {
   "cell_type": "code",
   "execution_count": 18,
   "id": "b1362e8d-3b40-4bd6-a3e3-0eb0b28bcf67",
   "metadata": {},
   "outputs": [
    {
     "name": "stdout",
     "output_type": "stream",
     "text": [
      "Enter the Age of User :  14\n"
     ]
    },
    {
     "name": "stdout",
     "output_type": "stream",
     "text": [
      "User is Teenager\n"
     ]
    }
   ],
   "source": [
    "age = int(input(\"Enter the Age of User : \"))\n",
    "if age <= 13 :\n",
    "    print(\"user is child\")\n",
    "elif age >13 and age<=19:\n",
    "    print(\"User is Teenager\")\n",
    "elif age>19 and age<=59 :\n",
    "    print(\"User is Adult \")\n",
    "elif age ==60 or age> 60 :\n",
    "    print(\"User is Senior Citizen \")\n",
    "else :\n",
    "    print(\"USer age is not defined\")"
   ]
  },
  {
   "cell_type": "code",
   "execution_count": 36,
   "id": "adcce1fb-6a15-405d-a482-34dbdc1f1ac9",
   "metadata": {},
   "outputs": [
    {
     "name": "stdout",
     "output_type": "stream",
     "text": [
      "enter the age of user  : 60\n",
      "enter the day :  monday\n"
     ]
    },
    {
     "name": "stdout",
     "output_type": "stream",
     "text": [
      "ticket price for you is $ 12\n"
     ]
    }
   ],
   "source": [
    "age = int(input(\"enter the age of user  :\"))\n",
    "day = input(\"enter the day : \")\n",
    "price = 12 if age >=18 else 8\n",
    "if day == \"wednesday\":\n",
    "    price-=2\n",
    "print(\"ticket price for you is $\",price)\n",
    "    \n",
    "\n",
    "    "
   ]
  },
  {
   "cell_type": "code",
   "execution_count": 4,
   "id": "21a8c881-821b-4f6d-bb9f-c487a38a7ebc",
   "metadata": {},
   "outputs": [
    {
     "name": "stdout",
     "output_type": "stream",
     "text": [
      "Enter the marks:  105\n"
     ]
    },
    {
     "name": "stdout",
     "output_type": "stream",
     "text": [
      "Check your marks\n"
     ]
    }
   ],
   "source": [
    "marks = int(input('Enter the marks: '))\n",
    "\n",
    "if marks >= 101:\n",
    "    print(\"Check your marks\")\n",
    "elif marks >= 90 and marks <= 100:\n",
    "    print(\"A\")\n",
    "elif marks >= 80 and marks <= 89:\n",
    "    print(\"B\")\n",
    "elif marks >= 70 and marks <= 79:\n",
    "    print(\"C\")\n",
    "elif marks >= 60 and marks <= 69:\n",
    "    print(\"D\")\n",
    "elif marks < 60:\n",
    "    print(\"F\")\n"
   ]
  },
  {
   "cell_type": "code",
   "execution_count": 12,
   "id": "7913c999-d7cc-4564-80b6-cfc01507e1fd",
   "metadata": {},
   "outputs": [
    {
     "name": "stdout",
     "output_type": "stream",
     "text": [
      "enter the color of fruit :  red\n"
     ]
    },
    {
     "name": "stdout",
     "output_type": "stream",
     "text": [
      "Don;t Eat \n"
     ]
    }
   ],
   "source": [
    "fruit_color = input(\"enter the color of fruit : \")\n",
    "color = \"yellow\"\n",
    "color1 = \"green\"\n",
    "color2 = \"brown\"\n",
    "if fruit_color == color :\n",
    "    print(\"Ripe\")\n",
    "elif fruit_color == color1 :\n",
    "    print(\"UNRipe\")\n",
    "elif fruit_color == color2 :\n",
    "    print(\"OverRipe\")\n",
    "else:\n",
    "    print(\"Don;t Eat \")"
   ]
  },
  {
   "cell_type": "code",
   "execution_count": 19,
   "id": "bd870502-2b84-46f8-b14f-5ba823f5dd24",
   "metadata": {},
   "outputs": [
    {
     "name": "stdout",
     "output_type": "stream",
     "text": [
      "enter the weather  snowy\n"
     ]
    },
    {
     "name": "stdout",
     "output_type": "stream",
     "text": [
      "Build  a Snowman \n"
     ]
    }
   ],
   "source": [
    "weather = input(\"enter the weather \")\n",
    "if weather == \"sunny\":\n",
    "    print(\"go for a walk \")\n",
    "elif weather == \"Rainy\":\n",
    "    print(\"Read A book\")\n",
    "elif weather == \"snowy\":\n",
    "    print(\"Build  a Snowman \")\n",
    "else:\n",
    "    print(\"error\")"
   ]
  },
  {
   "cell_type": "code",
   "execution_count": 1,
   "id": "e9875439-fcd1-45ad-8375-a68833ca5389",
   "metadata": {},
   "outputs": [
    {
     "name": "stdout",
     "output_type": "stream",
     "text": [
      "hello world \n"
     ]
    }
   ],
   "source": [
    "print(\"hello world \")"
   ]
  },
  {
   "cell_type": "code",
   "execution_count": 1,
   "id": "f3f5e936-810b-4fa6-a22d-2206ff575e33",
   "metadata": {},
   "outputs": [
    {
     "name": "stdout",
     "output_type": "stream",
     "text": [
      "mai hu nehal\n"
     ]
    }
   ],
   "source": [
    "print(\"mai hu nehal\")"
   ]
  },
  {
   "cell_type": "code",
   "execution_count": null,
   "id": "ea6cbb9b-202e-4cd4-bfe5-8656ce6022cf",
   "metadata": {},
   "outputs": [],
   "source": []
  },
  {
   "cell_type": "code",
   "execution_count": null,
   "id": "d4b3f225-aa5a-4672-8a59-c5a2dcd0a704",
   "metadata": {},
   "outputs": [],
   "source": []
  }
 ],
 "metadata": {
  "kernelspec": {
   "display_name": "Python 3",
   "language": "python",
   "name": "python3"
  },
  "language_info": {
   "codemirror_mode": {
    "name": "ipython",
    "version": 3
   },
   "file_extension": ".py",
   "mimetype": "text/x-python",
   "name": "python",
   "nbconvert_exporter": "python",
   "pygments_lexer": "ipython3",
   "version": "3.13.1"
  }
 },
 "nbformat": 4,
 "nbformat_minor": 5
}

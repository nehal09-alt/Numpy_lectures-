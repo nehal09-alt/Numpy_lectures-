{
 "cells": [
  {
   "cell_type": "code",
   "execution_count": 1,
   "id": "e419615c-9bdd-4b1b-bd88-bf057be287d2",
   "metadata": {},
   "outputs": [
    {
     "name": "stdout",
     "output_type": "stream",
     "text": [
      "ARRAY in NUMPy\n"
     ]
    }
   ],
   "source": [
    "print(\"ARRAY in NUMPy\")"
   ]
  },
  {
   "cell_type": "code",
   "execution_count": null,
   "id": "930418d0-bd92-4406-854c-9b3f37eaaf8a",
   "metadata": {},
   "outputs": [],
   "source": [
    "\n"
   ]
  },
  {
   "cell_type": "code",
   "execution_count": 3,
   "id": "7788aa19-3514-4873-9f46-928a51654a7a",
   "metadata": {},
   "outputs": [
    {
     "name": "stdout",
     "output_type": "stream",
     "text": [
      "afzal sa ajj baat hui\n"
     ]
    }
   ],
   "source": [
    "print(\"afzal sa ajj baat hui\")"
   ]
  },
  {
   "cell_type": "code",
   "execution_count": 5,
   "id": "8ccf0126-1c09-440f-b020-fc9fafa609f0",
   "metadata": {},
   "outputs": [
    {
     "name": "stderr",
     "output_type": "stream",
     "text": [
      "<>:1: SyntaxWarning: list indices must be integers or slices, not tuple; perhaps you missed a comma?\n",
      "<>:1: SyntaxWarning: list indices must be integers or slices, not tuple; perhaps you missed a comma?\n",
      "C:\\Users\\LENOVO\\AppData\\Local\\Temp\\ipykernel_12120\\2718595681.py:1: SyntaxWarning: list indices must be integers or slices, not tuple; perhaps you missed a comma?\n",
      "  a = np.array9([1,2,3] [ 4,5,6] [7,8,9])\n",
      "C:\\Users\\LENOVO\\AppData\\Local\\Temp\\ipykernel_12120\\2718595681.py:1: SyntaxWarning: list indices must be integers or slices, not tuple; perhaps you missed a comma?\n",
      "  a = np.array9([1,2,3] [ 4,5,6] [7,8,9])\n",
      "C:\\Users\\LENOVO\\AppData\\Local\\Temp\\ipykernel_12120\\2718595681.py:1: SyntaxWarning: list indices must be integers or slices, not tuple; perhaps you missed a comma?\n",
      "  a = np.array9([1,2,3] [ 4,5,6] [7,8,9])\n",
      "C:\\Users\\LENOVO\\AppData\\Local\\Temp\\ipykernel_12120\\2718595681.py:1: SyntaxWarning: list indices must be integers or slices, not tuple; perhaps you missed a comma?\n",
      "  a = np.array9([1,2,3] [ 4,5,6] [7,8,9])\n",
      "C:\\Users\\LENOVO\\AppData\\Local\\Temp\\ipykernel_12120\\2718595681.py:1: SyntaxWarning: list indices must be integers or slices, not tuple; perhaps you missed a comma?\n",
      "  a = np.array9([1,2,3] [ 4,5,6] [7,8,9])\n"
     ]
    },
    {
     "ename": "NameError",
     "evalue": "name 'np' is not defined",
     "output_type": "error",
     "traceback": [
      "\u001b[1;31m---------------------------------------------------------------------------\u001b[0m",
      "\u001b[1;31mNameError\u001b[0m                                 Traceback (most recent call last)",
      "Cell \u001b[1;32mIn[5], line 1\u001b[0m\n\u001b[1;32m----> 1\u001b[0m a \u001b[38;5;241m=\u001b[39m np\u001b[38;5;241m.\u001b[39marray9([\u001b[38;5;241m1\u001b[39m,\u001b[38;5;241m2\u001b[39m,\u001b[38;5;241m3\u001b[39m] [ \u001b[38;5;241m4\u001b[39m,\u001b[38;5;241m5\u001b[39m,\u001b[38;5;241m6\u001b[39m] [\u001b[38;5;241m7\u001b[39m,\u001b[38;5;241m8\u001b[39m,\u001b[38;5;241m9\u001b[39m])\n\u001b[0;32m      2\u001b[0m \u001b[38;5;28mprint\u001b[39m(a)\n",
      "\u001b[1;31mNameError\u001b[0m: name 'np' is not defined"
     ]
    }
   ],
   "source": [
    "a = np.array9([1,2,3] [ 4,5,6] [7,8,9])\n",
    "print(a)"
   ]
  },
  {
   "cell_type": "code",
   "execution_count": 6,
   "id": "42bb0bbf-17b0-4234-b987-44ca905b1f30",
   "metadata": {},
   "outputs": [],
   "source": [
    "import numpy as np"
   ]
  },
  {
   "cell_type": "code",
   "execution_count": 7,
   "id": "05711415-3cb2-44fa-b16d-54c5c4ce6425",
   "metadata": {},
   "outputs": [
    {
     "name": "stdout",
     "output_type": "stream",
     "text": [
      "[1 2 3]\n"
     ]
    }
   ],
   "source": [
    "a = np.array([1,2,3])\n",
    "print(a)"
   ]
  },
  {
   "cell_type": "code",
   "execution_count": 10,
   "id": "0f2ad4a1-04b2-4f33-8179-23fbd9b79870",
   "metadata": {},
   "outputs": [
    {
     "ename": "TypeError",
     "evalue": "array() takes from 1 to 2 positional arguments but 3 were given",
     "output_type": "error",
     "traceback": [
      "\u001b[1;31m---------------------------------------------------------------------------\u001b[0m",
      "\u001b[1;31mTypeError\u001b[0m                                 Traceback (most recent call last)",
      "Cell \u001b[1;32mIn[10], line 1\u001b[0m\n\u001b[1;32m----> 1\u001b[0m b \u001b[38;5;241m=\u001b[39mnp\u001b[38;5;241m.\u001b[39marray([\u001b[38;5;241m1\u001b[39m,\u001b[38;5;241m2\u001b[39m,\u001b[38;5;241m3\u001b[39m], [\u001b[38;5;241m4\u001b[39m,\u001b[38;5;241m5\u001b[39m,\u001b[38;5;241m6\u001b[39m], [\u001b[38;5;241m7\u001b[39m,\u001b[38;5;241m8\u001b[39m,\u001b[38;5;241m9\u001b[39m])\n\u001b[0;32m      2\u001b[0m \u001b[38;5;28mprint\u001b[39m(b)\n",
      "\u001b[1;31mTypeError\u001b[0m: array() takes from 1 to 2 positional arguments but 3 were given"
     ]
    }
   ],
   "source": [
    "b =np.array([1,2,3], [4,5,6], [7,8,9])\n",
    "print(b)"
   ]
  },
  {
   "cell_type": "code",
   "execution_count": 1,
   "id": "3ad8761d-3168-4699-adfb-ad1b8e09af73",
   "metadata": {},
   "outputs": [
    {
     "name": "stdout",
     "output_type": "stream",
     "text": [
      "nehaliis back\n"
     ]
    }
   ],
   "source": [
    "print(\"nehaliis back\")"
   ]
  },
  {
   "cell_type": "code",
   "execution_count": 2,
   "id": "66ba28d3",
   "metadata": {},
   "outputs": [],
   "source": [
    "import numpy as np"
   ]
  },
  {
   "cell_type": "code",
   "execution_count": 4,
   "id": "b8265e24",
   "metadata": {},
   "outputs": [
    {
     "name": "stdout",
     "output_type": "stream",
     "text": [
      "[[1 5 8]\n",
      " [7 8 9]]\n"
     ]
    }
   ],
   "source": [
    "c = np.array([[1,5,8] , [7,8,9]])\n",
    "print(c)"
   ]
  },
  {
   "cell_type": "code",
   "execution_count": 7,
   "id": "d1de3e59",
   "metadata": {},
   "outputs": [
    {
     "name": "stdout",
     "output_type": "stream",
     "text": [
      "[1, 5, 9, 1, 5, 9]\n"
     ]
    }
   ],
   "source": [
    "#list multiplication \n",
    "list1 = [1,5,9]\n",
    "print(list1 *2)"
   ]
  },
  {
   "cell_type": "code",
   "execution_count": 9,
   "id": "e28a74cf",
   "metadata": {},
   "outputs": [
    {
     "name": "stdout",
     "output_type": "stream",
     "text": [
      "[ 8  4 16]\n"
     ]
    }
   ],
   "source": [
    "#Array multiplication \n",
    "array1 = np.array([4,2,8])\n",
    "print(array1 * 2)"
   ]
  },
  {
   "cell_type": "code",
   "execution_count": 19,
   "id": "e2c29db2",
   "metadata": {},
   "outputs": [
    {
     "name": "stdout",
     "output_type": "stream",
     "text": [
      "/n time of multiplication  0.014108657836914062\n",
      "/n time in Array multiply :  0.0022771358489990234\n",
      "\n",
      " Example of arange\n",
      "[  2   4   6   8  10  12  14  16  18  20  22  24  26  28  30  32  34  36\n",
      "  38  40  42  44  46  48  50  52  54  56  58  60  62  64  66  68  70  72\n",
      "  74  76  78  80  82  84  86  88  90  92  94  96  98 100]\n"
     ]
    }
   ],
   "source": [
    "import time \n",
    "\n",
    "start = time.time()\n",
    "list1 = [i*2 for i in range(100000) ]\n",
    "print(\"/n time of multiplication \", time.time()- start )\n",
    "\n",
    "start = time.time()\n",
    "array1 = np.arange(100000) *2 # in (np.arange(start , stop , step))\n",
    "print(\"/n time in Array multiply : \", time.time() - start )\n",
    "\n",
    "\n",
    "print(\"\\n Example of arange\")\n",
    "sequence = np.arange(2 , 101 , 2 )\n",
    "print(sequence)"
   ]
  },
  {
   "cell_type": "code",
   "execution_count": null,
   "id": "be4694fd",
   "metadata": {},
   "outputs": [
    {
     "name": "stdout",
     "output_type": "stream",
     "text": [
      "[[0. 0.]\n",
      " [0. 0.]]\n"
     ]
    }
   ],
   "source": [
    "zeroes = np.zeros([2,2])# 2,2 represent row and column \n",
    "print(zeroes)"
   ]
  },
  {
   "cell_type": "code",
   "execution_count": 13,
   "id": "05aaaedd",
   "metadata": {},
   "outputs": [
    {
     "name": "stdout",
     "output_type": "stream",
     "text": [
      "[[1. 1. 1.]\n",
      " [1. 1. 1.]\n",
      " [1. 1. 1.]\n",
      " [1. 1. 1.]]\n"
     ]
    }
   ],
   "source": [
    "ones = np.ones([4,3])\n",
    "print(ones)"
   ]
  },
  {
   "cell_type": "code",
   "execution_count": 2,
   "id": "db633678",
   "metadata": {},
   "outputs": [
    {
     "name": "stdout",
     "output_type": "stream",
     "text": [
      "\n",
      "constant matrix :  [[7 7 7]\n",
      " [7 7 7]\n",
      " [7 7 7]]\n",
      "\n",
      "All one matrices :  [[1. 1. 1.]\n",
      " [1. 1. 1.]\n",
      " [1. 1. 1.]]\n",
      "\n",
      " Multiplication of Matrices \n",
      "\n",
      " multiplication\n",
      " [[7. 7. 7.]\n",
      " [7. 7. 7.]\n",
      " [7. 7. 7.]]\n"
     ]
    }
   ],
   "source": [
    "# multiply of array \n",
    "import numpy as np\n",
    "constant = np.full([3,3] , 7)\n",
    "print(\"\\nconstant matrix : \" , constant)\n",
    "\n",
    "ones = np.ones([3,3])\n",
    "print(\"\\nAll one matrices : \" , ones )\n",
    "\n",
    "print(\"\\n Multiplication of Matrices \")\n",
    "\n",
    "print(\"\\n multiplication\\n\",constant * ones)\n"
   ]
  },
  {
   "cell_type": "code",
   "execution_count": null,
   "id": "4832c36e",
   "metadata": {},
   "outputs": [
    {
     "name": "stdout",
     "output_type": "stream",
     "text": [
      "[[0.41070128 0.17036449 0.16364799]\n",
      " [0.16408942 0.83983518 0.47271471]]\n"
     ]
    }
   ],
   "source": [
    "random = np.random.random([2,3])\n",
    "print(random) # in random there number is start from 0 to one only "
   ]
  },
  {
   "cell_type": "code",
   "execution_count": 27,
   "id": "bc165a70",
   "metadata": {},
   "outputs": [
    {
     "name": "stdout",
     "output_type": "stream",
     "text": [
      "this is vector\n",
      " [1 2 3]\n",
      "this is matrix =\n",
      " [[1 2 3]\n",
      " [4 5 6]\n",
      " [7 8 9]]\n",
      "this is tensort  = \n",
      " [[[1 2]\n",
      "  [3 4]]\n",
      "\n",
      " [[5 6]\n",
      "  [7 8]]]\n"
     ]
    }
   ],
   "source": [
    "#vector , matrix and tensor \n",
    "\n",
    "vector = np.array([1,2,3])\n",
    "print(\"this is vector\\n\", vector)\n",
    "\n",
    "matrix = np.array([[1,2,3],[4,5,6],[7,8,9]])\n",
    "print(\"this is matrix =\\n\",matrix)\n",
    "\n",
    "tensor = np.array([[[1,2],[3,4]] ,[ [5,6] ,[7,8]]])\n",
    "print(\"this is tensort  = \\n\",tensor)"
   ]
  },
  {
   "cell_type": "code",
   "execution_count": 29,
   "id": "1fdca710",
   "metadata": {},
   "outputs": [
    {
     "name": "stdout",
     "output_type": "stream",
     "text": [
      "Shape (2, 3)\n",
      "Size 6\n",
      "Datatype int64\n",
      "Dimension 2\n"
     ]
    }
   ],
   "source": [
    "arr = np.array([[4,5,8] , \n",
    "               [1,2,9]])\n",
    "print(\"Shape\",arr.shape)\n",
    "print(\"Size\" ,arr.size)\n",
    "print(\"Datatype\" ,arr.dtype)\n",
    "print(\"Dimension\" , arr.ndim)"
   ]
  },
  {
   "cell_type": "code",
   "execution_count": 9,
   "id": "8cf08492",
   "metadata": {},
   "outputs": [
    {
     "name": "stdout",
     "output_type": "stream",
     "text": [
      "[ 0  1  2  3  4  5  6  7  8  9 10 11]\n",
      "\n",
      " [[ 0  1  2  3]\n",
      " [ 4  5  6  7]\n",
      " [ 8  9 10 11]]\n",
      "\n",
      " [ 0  1  2  3  4  5  6  7  8  9 10 11]\n",
      "\n",
      " [ 0  1  2  3  4  5  6  7  8  9 10 11]\n",
      "\n",
      "  [[ 0  4  8]\n",
      " [ 1  5  9]\n",
      " [ 2  6 10]\n",
      " [ 3  7 11]]\n"
     ]
    }
   ],
   "source": [
    "#array reshping\n",
    "import numpy as np\n",
    "arr = np.arange(12)\n",
    "print(arr)\n",
    "reshaped = arr.reshape((3,4))\n",
    "print(\"\\n\",reshaped)\n",
    "flattend = reshaped.flatten()\n",
    "print(\"\\n\", flattend)\n",
    "\n",
    "#ravewl returns veiws instead of copy\n",
    "ravaled = reshaped.ravel()\n",
    "print(\"\\n\" , ravaled)\n",
    "\n",
    "#transpose (row ko column mai)\n",
    "transpose = reshaped.T\n",
    "print(\"\\n \",transpose)"
   ]
  },
  {
   "cell_type": "code",
   "execution_count": null,
   "id": "c6e5d387",
   "metadata": {},
   "outputs": [
    {
     "name": "stdout",
     "output_type": "stream",
     "text": [
      "slicing  [3 4 5 6 7]\n",
      "with step [2 4 6 8]\n",
      "Negative indexing:  7\n"
     ]
    }
   ],
   "source": [
    "#concept of slicing in ARRay with simple vector\n",
    "import numpy as np \n",
    "\n",
    "arr = np.array([1,2,3,4,5,6,7,8,9])\n",
    "print(\"slicing \", arr[2:7])\n",
    "print(\"with step\", arr[1 : 9: 2] )\n",
    "print(\"Negative indexing: \", arr[-3])\n"
   ]
  },
  {
   "cell_type": "code",
   "execution_count": 17,
   "id": "37a94229",
   "metadata": {},
   "outputs": [
    {
     "name": "stdout",
     "output_type": "stream",
     "text": [
      "for specific elment:  6\n",
      "entire ROW :  [4 5 6]\n",
      "for entire column : [1 4 7]\n"
     ]
    }
   ],
   "source": [
    "#it first row  start from 0\n",
    "arr = np.array([[1,2,3],\n",
    "                [4,5,6],\n",
    "                [7,8,9]])\n",
    "print(\"for specific elment: \",arr[1,2])#\n",
    "#for taking specificentire row \n",
    "print(\"entire ROW : \",arr[1])\n",
    "print(\"for entire column :\",arr[:,0]) #for entire column\n"
   ]
  },
  {
   "cell_type": "code",
   "execution_count": 3,
   "id": "47f3cb24",
   "metadata": {},
   "outputs": [
    {
     "name": "stdout",
     "output_type": "stream",
     "text": [
      "[  1   2   3   4   8   9  67 144]\n",
      "[[1 1]\n",
      " [3 3]\n",
      " [4 4]]\n",
      "\n",
      "\n",
      "[[1 3]\n",
      " [3 4]\n",
      " [1 4]]\n"
     ]
    }
   ],
   "source": [
    "#SORTING\n",
    "arr = np.array([1,4,8,9,67,3,144,2])\n",
    "print(np.sort(arr))\n",
    "\n",
    "#sorting of 2d matrix \n",
    "\n",
    "arr2_d = np.array([[3,1],\n",
    "                  [4,3],\n",
    "                  [1,4]])\n",
    "print(np.sort(arr2_d, axis = 0))\n",
    "print(\"\\n\")\n",
    "print(np.sort(arr2_d, axis = 1))\n"
   ]
  },
  {
   "cell_type": "code",
   "execution_count": null,
   "id": "9258b7c8",
   "metadata": {},
   "outputs": [
    {
     "name": "stdout",
     "output_type": "stream",
     "text": [
      "[ 2  4  6  8 10]\n",
      "number less than 5 :  [1 2 3 4]\n",
      "[1 3 5]\n",
      "[ 6  7  8  9 10]\n"
     ]
    }
   ],
   "source": [
    "#filter\n",
    "numbers =np.array([1,2,3,4,5,6,7,8,9,10])\n",
    "even = numbers[numbers % 2== 0 ]\n",
    "print(even)\n",
    "\n",
    "#filter with mask (we can hold expression in variable )\n",
    "\n",
    "mask= numbers < 5 \n",
    "print(\"number less than 5 : \",numbers[mask])\n",
    "\n",
    "#indices \n",
    "indices = [0,2,4]\n",
    "print(numbers[indices])\n",
    "\n",
    "\n",
    "#np.where\n",
    "\n",
    "result = np.where(numbers>5)\n",
    "print(numbers[result])\n",
    "\n"
   ]
  },
  {
   "cell_type": "code",
   "execution_count": null,
   "id": "529fab1a",
   "metadata": {},
   "outputs": [
    {
     "name": "stdout",
     "output_type": "stream",
     "text": [
      "[ 2  4  3  4  5  6  7  8  9 10]\n",
      "['false' 'false' 'false' 'false' 'false' 'true' 'true' 'true' 'true'\n",
      " 'true']\n",
      "[ 0  0  0 40 50]\n"
     ]
    }
   ],
   "source": [
    "condition_array = np.where(numbers<3 , numbers * 2 , numbers)\n",
    "print(condition_array)\n",
    "# np.where (condition , if , else ) or (condition , True , False)\n",
    "example = np.where(numbers>5 ,\"true\" , 'false')\n",
    "print(example)\n",
    "\n",
    "#example by grok \n",
    "arr = np.array([1, 2, 3, 4, 5])\n",
    "x = np.array([10, 20, 30, 40, 50])  # x array\n",
    "y = np.array([0, 0, 0, 0, 0])       # y array\n",
    "result = np.where(arr > 3, x, y)\n",
    "print(result)\n",
    "# Output: [0 0 0 40 50]\n"
   ]
  },
  {
   "cell_type": "code",
   "execution_count": null,
   "id": "edb51ffa",
   "metadata": {},
   "outputs": [
    {
     "name": "stdout",
     "output_type": "stream",
     "text": [
      "[5 7 9]\n",
      "[4 5 6 1 2 3]\n"
     ]
    }
   ],
   "source": [
    "arr1 = np.array([4,5,6])\n",
    "arr2 = np.array([1,2,3])\n",
    "print(arr1 +arr2) # it is not okk\n",
    "\n",
    "add = np.concatenate((arr1,arr2)) #it is ok \n",
    "\n",
    "print(add)\n"
   ]
  },
  {
   "cell_type": "code",
   "execution_count": 8,
   "id": "2b945766",
   "metadata": {},
   "outputs": [
    {
     "name": "stdout",
     "output_type": "stream",
     "text": [
      "comparebility |:  False\n"
     ]
    }
   ],
   "source": [
    "import numpy as np \n",
    "#comparebility \n",
    "a = np.array([1,2])\n",
    "b = np.array([3,4 , 5])\n",
    "print(\"comparebility |: \",a.shape == b.shape)"
   ]
  },
  {
   "cell_type": "code",
   "execution_count": 15,
   "id": "a49a0f14",
   "metadata": {},
   "outputs": [
    {
     "name": "stdout",
     "output_type": "stream",
     "text": [
      "[[1 2]\n",
      " [3 4]\n",
      " [5 6]]\n",
      "\n",
      "\n",
      "[[1 2 7]\n",
      " [3 4 8]]\n"
     ]
    }
   ],
   "source": [
    "#for adding new row column\n",
    "original = np.array([[1,2],[3,4]])\n",
    "new_row = np.array([[5,6]]) #this row will ad on original \n",
    "\n",
    "with_new_row = np.vstack((original , new_row))\n",
    "print(with_new_row)\n",
    "print(\"\\n\")\n",
    "\n",
    "#for adding new column \n",
    "new_col = np.array([[7],[8]])\n",
    "with_new_column = np.hstack((original , new_col))\n",
    "print(with_new_column)"
   ]
  },
  {
   "cell_type": "code",
   "execution_count": 18,
   "id": "5f4bef7d",
   "metadata": {},
   "outputs": [
    {
     "name": "stdout",
     "output_type": "stream",
     "text": [
      "[2 3 4 5 6]\n"
     ]
    }
   ],
   "source": [
    "#for delete \n",
    "arr =np.array([1,2,3,4,5,6])\n",
    "deleted = np.delete(arr , 0 )\n",
    "print(deleted)\n"
   ]
  },
  {
   "cell_type": "code",
   "execution_count": null,
   "id": "b35d4b08",
   "metadata": {},
   "outputs": [],
   "source": []
  }
 ],
 "metadata": {
  "kernelspec": {
   "display_name": "Python 3",
   "language": "python",
   "name": "python3"
  },
  "language_info": {
   "codemirror_mode": {
    "name": "ipython",
    "version": 3
   },
   "file_extension": ".py",
   "mimetype": "text/x-python",
   "name": "python",
   "nbconvert_exporter": "python",
   "pygments_lexer": "ipython3",
   "version": "3.13.1"
  }
 },
 "nbformat": 4,
 "nbformat_minor": 5
}
